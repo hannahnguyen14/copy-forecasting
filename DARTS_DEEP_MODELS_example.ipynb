{
 "cells": [
  {
   "cell_type": "markdown",
   "id": "13dc7ac9",
   "metadata": {},
   "source": [
    "# Example: Using DARTS Deep Models via TSFB\n",
    "\n",
    "Notebook này minh họa cách làm việc với DARTS_DEEP_MODELS trong dự án tsfb, giống như khi dùng một thư viện dự báo riêng biệt.\n",
    "Ở đây sử dụng mô hình học sâu BlockRNNModel của thư viện darts, được TSFB bao bọc lại.\n",
    "\n",
    "Layout gồm có:\n",
    "1. Sử dụng 1 phần nhỏ bộ dữ liệu thật M5.\n",
    "\n",
    "2. Định nghĩa các siêu tham số (hyperparameters) cần thiết cho mô hình DARTS.\n",
    "\n",
    "3. Khởi tạo mô hình thông qua adapter của TSFB (get_models).\n",
    "\n",
    "4. Huấn luyện mô hình với dữ liệu và tạo dự báo."
   ]
  },
  {
   "cell_type": "markdown",
   "id": "fc699ad7-daff-45e3-95fd-413f46f1ac65",
   "metadata": {},
   "source": [
    "## Step 1: Chuẩn bị dữ liệu\n",
    "Bộ dữ liệu M5 Forecasting từ Kaggle là dữ liệu bán hàng theo ngày của nhiều sản phẩm trong các cửa hàng Walmart.\n",
    "Trong ví dụ này chỉ lấy một sản phẩm duy nhất và cắt 300 ngày gần nhất.\n",
    "\n",
    "Dữ liệu được chuẩn hóa thành một DataFrame gồm hai cột:\n",
    "- date: ngày quan sát (dạng datetime, làm index)\n",
    "- sales: số lượng bán ra mỗi ngày\n",
    "\n",
    "Đây là định dạng đầu vào tiêu chuẩn cho các model trong TSFB, dễ tương thích với các adapter của Darts."
   ]
  },
  {
   "cell_type": "code",
   "execution_count": 1,
   "id": "27c9a529-c28b-4027-885c-1d2c52a569b2",
   "metadata": {},
   "outputs": [
    {
     "name": "stdout",
     "output_type": "stream",
     "text": [
      "Đang tải zip dữ liệu M5\n",
      "Tải xong, giải nén\n",
      "Giải nén xong\n"
     ]
    }
   ],
   "source": [
    "import os\n",
    "import zipfile\n",
    "import urllib.request\n",
    "\n",
    "ZIP_URL = \"https://github.com/Nixtla/m5-forecasts/raw/main/datasets/m5.zip\"\n",
    "ZIP_FILE = \"m5.zip\"\n",
    "EXTRACTED_NAME = \"sales_train_validation.csv\"\n",
    "\n",
    "# Tải file và giải nén\n",
    "def download_and_extract():\n",
    "    print(\"Đang tải zip dữ liệu M5\")\n",
    "    urllib.request.urlretrieve(ZIP_URL, ZIP_FILE)\n",
    "    print(\"Tải xong, giải nén\")\n",
    "    with zipfile.ZipFile(ZIP_FILE, 'r') as z:\n",
    "        z.extract(EXTRACTED_NAME)\n",
    "    print(\"Giải nén xong\")\n",
    "\n",
    "# Kiểm tra\n",
    "if not os.path.exists(EXTRACTED_NAME):\n",
    "    try:\n",
    "        download_and_extract()\n",
    "    except Exception as e:\n",
    "        raise RuntimeError(\n",
    "            \"Không thể tự động tải/giải nén dữ liệu\"\n",
    "            \"Tải file `m5.zip` từ link sau, giải nén và sử dụng bộ dữ liệu `sales_train_validation.csv` \"\n",
    "            + ZIP_URL\n",
    "        )"
   ]
  },
  {
   "cell_type": "code",
   "execution_count": 2,
   "id": "2dd13925-7866-454e-b1fe-7928a941b87f",
   "metadata": {},
   "outputs": [
    {
     "data": {
      "text/html": [
       "<div>\n",
       "<style scoped>\n",
       "    .dataframe tbody tr th:only-of-type {\n",
       "        vertical-align: middle;\n",
       "    }\n",
       "\n",
       "    .dataframe tbody tr th {\n",
       "        vertical-align: top;\n",
       "    }\n",
       "\n",
       "    .dataframe thead th {\n",
       "        text-align: right;\n",
       "    }\n",
       "</style>\n",
       "<table border=\"1\" class=\"dataframe\">\n",
       "  <thead>\n",
       "    <tr style=\"text-align: right;\">\n",
       "      <th></th>\n",
       "      <th>item_id</th>\n",
       "      <th>dept_id</th>\n",
       "      <th>cat_id</th>\n",
       "      <th>store_id</th>\n",
       "      <th>state_id</th>\n",
       "      <th>d_1</th>\n",
       "      <th>d_2</th>\n",
       "      <th>d_3</th>\n",
       "      <th>d_4</th>\n",
       "      <th>d_5</th>\n",
       "      <th>...</th>\n",
       "      <th>d_1904</th>\n",
       "      <th>d_1905</th>\n",
       "      <th>d_1906</th>\n",
       "      <th>d_1907</th>\n",
       "      <th>d_1908</th>\n",
       "      <th>d_1909</th>\n",
       "      <th>d_1910</th>\n",
       "      <th>d_1911</th>\n",
       "      <th>d_1912</th>\n",
       "      <th>d_1913</th>\n",
       "    </tr>\n",
       "  </thead>\n",
       "  <tbody>\n",
       "    <tr>\n",
       "      <th>0</th>\n",
       "      <td>HOBBIES_1_001</td>\n",
       "      <td>HOBBIES_1</td>\n",
       "      <td>HOBBIES</td>\n",
       "      <td>CA_1</td>\n",
       "      <td>CA</td>\n",
       "      <td>0</td>\n",
       "      <td>0</td>\n",
       "      <td>0</td>\n",
       "      <td>0</td>\n",
       "      <td>0</td>\n",
       "      <td>...</td>\n",
       "      <td>1</td>\n",
       "      <td>3</td>\n",
       "      <td>0</td>\n",
       "      <td>1</td>\n",
       "      <td>1</td>\n",
       "      <td>1</td>\n",
       "      <td>3</td>\n",
       "      <td>0</td>\n",
       "      <td>1</td>\n",
       "      <td>1</td>\n",
       "    </tr>\n",
       "    <tr>\n",
       "      <th>1</th>\n",
       "      <td>HOBBIES_1_002</td>\n",
       "      <td>HOBBIES_1</td>\n",
       "      <td>HOBBIES</td>\n",
       "      <td>CA_1</td>\n",
       "      <td>CA</td>\n",
       "      <td>0</td>\n",
       "      <td>0</td>\n",
       "      <td>0</td>\n",
       "      <td>0</td>\n",
       "      <td>0</td>\n",
       "      <td>...</td>\n",
       "      <td>0</td>\n",
       "      <td>0</td>\n",
       "      <td>0</td>\n",
       "      <td>0</td>\n",
       "      <td>0</td>\n",
       "      <td>1</td>\n",
       "      <td>0</td>\n",
       "      <td>0</td>\n",
       "      <td>0</td>\n",
       "      <td>0</td>\n",
       "    </tr>\n",
       "    <tr>\n",
       "      <th>2</th>\n",
       "      <td>HOBBIES_1_003</td>\n",
       "      <td>HOBBIES_1</td>\n",
       "      <td>HOBBIES</td>\n",
       "      <td>CA_1</td>\n",
       "      <td>CA</td>\n",
       "      <td>0</td>\n",
       "      <td>0</td>\n",
       "      <td>0</td>\n",
       "      <td>0</td>\n",
       "      <td>0</td>\n",
       "      <td>...</td>\n",
       "      <td>2</td>\n",
       "      <td>1</td>\n",
       "      <td>2</td>\n",
       "      <td>1</td>\n",
       "      <td>1</td>\n",
       "      <td>1</td>\n",
       "      <td>0</td>\n",
       "      <td>1</td>\n",
       "      <td>1</td>\n",
       "      <td>1</td>\n",
       "    </tr>\n",
       "    <tr>\n",
       "      <th>3</th>\n",
       "      <td>HOBBIES_1_004</td>\n",
       "      <td>HOBBIES_1</td>\n",
       "      <td>HOBBIES</td>\n",
       "      <td>CA_1</td>\n",
       "      <td>CA</td>\n",
       "      <td>0</td>\n",
       "      <td>0</td>\n",
       "      <td>0</td>\n",
       "      <td>0</td>\n",
       "      <td>0</td>\n",
       "      <td>...</td>\n",
       "      <td>1</td>\n",
       "      <td>0</td>\n",
       "      <td>5</td>\n",
       "      <td>4</td>\n",
       "      <td>1</td>\n",
       "      <td>0</td>\n",
       "      <td>1</td>\n",
       "      <td>3</td>\n",
       "      <td>7</td>\n",
       "      <td>2</td>\n",
       "    </tr>\n",
       "    <tr>\n",
       "      <th>4</th>\n",
       "      <td>HOBBIES_1_005</td>\n",
       "      <td>HOBBIES_1</td>\n",
       "      <td>HOBBIES</td>\n",
       "      <td>CA_1</td>\n",
       "      <td>CA</td>\n",
       "      <td>0</td>\n",
       "      <td>0</td>\n",
       "      <td>0</td>\n",
       "      <td>0</td>\n",
       "      <td>0</td>\n",
       "      <td>...</td>\n",
       "      <td>2</td>\n",
       "      <td>1</td>\n",
       "      <td>1</td>\n",
       "      <td>0</td>\n",
       "      <td>1</td>\n",
       "      <td>1</td>\n",
       "      <td>2</td>\n",
       "      <td>2</td>\n",
       "      <td>2</td>\n",
       "      <td>4</td>\n",
       "    </tr>\n",
       "  </tbody>\n",
       "</table>\n",
       "<p>5 rows × 1918 columns</p>\n",
       "</div>"
      ],
      "text/plain": [
       "         item_id    dept_id   cat_id store_id state_id  d_1  d_2  d_3  d_4  \\\n",
       "0  HOBBIES_1_001  HOBBIES_1  HOBBIES     CA_1       CA    0    0    0    0   \n",
       "1  HOBBIES_1_002  HOBBIES_1  HOBBIES     CA_1       CA    0    0    0    0   \n",
       "2  HOBBIES_1_003  HOBBIES_1  HOBBIES     CA_1       CA    0    0    0    0   \n",
       "3  HOBBIES_1_004  HOBBIES_1  HOBBIES     CA_1       CA    0    0    0    0   \n",
       "4  HOBBIES_1_005  HOBBIES_1  HOBBIES     CA_1       CA    0    0    0    0   \n",
       "\n",
       "   d_5  ...  d_1904  d_1905  d_1906  d_1907  d_1908  d_1909  d_1910  d_1911  \\\n",
       "0    0  ...       1       3       0       1       1       1       3       0   \n",
       "1    0  ...       0       0       0       0       0       1       0       0   \n",
       "2    0  ...       2       1       2       1       1       1       0       1   \n",
       "3    0  ...       1       0       5       4       1       0       1       3   \n",
       "4    0  ...       2       1       1       0       1       1       2       2   \n",
       "\n",
       "   d_1912  d_1913  \n",
       "0       1       1  \n",
       "1       0       0  \n",
       "2       1       1  \n",
       "3       7       2  \n",
       "4       2       4  \n",
       "\n",
       "[5 rows x 1918 columns]"
      ]
     },
     "execution_count": 2,
     "metadata": {},
     "output_type": "execute_result"
    }
   ],
   "source": [
    "# Đọc file csv \n",
    "import pandas as pd\n",
    "raw_df = pd.read_csv(\"sales_train_validation.csv\")\n",
    "raw_df.head()"
   ]
  },
  {
   "cell_type": "code",
   "execution_count": 3,
   "id": "7ad91119-39d0-4e0f-b008-92406e6bc7e0",
   "metadata": {},
   "outputs": [
    {
     "name": "stdout",
     "output_type": "stream",
     "text": [
      "            sales\n",
      "date             \n",
      "2015-06-30      2\n",
      "2015-07-01      0\n",
      "2015-07-02      0\n",
      "2015-07-03      0\n",
      "2015-07-04      1\n"
     ]
    }
   ],
   "source": [
    "# Bỏ 5 cột đầu (metadata), lấy dữ liệu bán hàng theo ngày\n",
    "item_series = raw_df.iloc[0, 5:] \n",
    "\n",
    "# Chuyển index thành dạng ngày\n",
    "start_date = pd.to_datetime(\"2011-01-29\")  # ngày bắt đầu trong M5\n",
    "dates = pd.date_range(start=start_date, periods=len(item_series), freq=\"D\")\n",
    "\n",
    "# Tạo Dataframe\n",
    "df = pd.DataFrame({\n",
    "    \"date\": dates,\n",
    "    \"sales\": pd.to_numeric(item_series.values, errors=\"coerce\")  # đảm bảo là numeric\n",
    "})\n",
    "\n",
    "# Lấy phần nhỏ, reset index, và set date làm index\n",
    "data = df.tail(300).set_index(\"date\")\n",
    "\n",
    "print(data.head())"
   ]
  },
  {
   "cell_type": "markdown",
   "id": "8b585af4-cdc2-4ff4-a967-39730445368c",
   "metadata": {},
   "source": [
    "## Step 2: Định nghĩa hyperparameters\n",
    "TSFB sử dụng cơ chế “model factory”, trong đó mỗi mô hình được định nghĩa thông qua một config bao gồm:\n",
    "\n",
    "- model_name: tên lớp mô hình gốc trong thư viện Darts.\n",
    "              Danh sách đầy đủ các deep model được TSFB hỗ trợ nằm trong biến DARTS_DEEP_MODELS của file darts_factory.py: https://github.com/vnpt-ds-core/forecasting/blob/main/tsfb/base/models/darts/darts_factory.py\n",
    "\n",
    "- model_hyper_params: bao gồm tham số bắt buộc cho BlockRNNModel là input_chunk_length (số bước quá khứ mô hình quan sát) và output_chunk_length (số bước tương lai cần dự báo); cùng các tham số khác như hidden_dim, dropout, v.v. (đọc thêm trong documents của Darts: https://unit8co.github.io/darts/generated_api/darts.models.forecasting.block_rnn_model.html)\n",
    "\n",
    "Các tham số bắt buộc cho mọi mô hình deep được khai báo trong DEEP_MODEL_REQUIRED_ARGS của file darts_conf.py; còn cấu hình mặc định của trainer (như accelerator, devices) nằm trong DEEP_MODEL_ARGS: https://github.com/vnpt-ds-core/forecasting/blob/main/tsfb/conf/darts_conf.py\n",
    "\n",
    "Config này mô phỏng cách pipeline của TSFB đọc file config .yaml trong môi trường production."
   ]
  },
  {
   "cell_type": "code",
   "execution_count": 4,
   "id": "c24f6f21-3248-41f5-b53a-c8f6696ac44b",
   "metadata": {},
   "outputs": [
    {
     "name": "stderr",
     "output_type": "stream",
     "text": [
      "/opt/miniconda3/envs/vnpt_ts311_arm/lib/python3.11/site-packages/fs/__init__.py:4: UserWarning: pkg_resources is deprecated as an API. See https://setuptools.pypa.io/en/latest/pkg_resources.html. The pkg_resources package is slated for removal as early as 2025-11-30. Refrain from using this package or pin to Setuptools<81.\n",
      "  __import__(\"pkg_resources\").declare_namespace(__name__)  # type: ignore\n",
      "/opt/miniconda3/envs/vnpt_ts311_arm/lib/python3.11/site-packages/mlflow/pyfunc/model.py:187: UserWarning: \u001b[31mType hint used in the model's predict function is not supported for MLflow's schema validation. Type hints must be wrapped in list[...] because MLflow assumes the predict method to take multiple input instances. Specify your type hint as `list[typing.Any]` for a valid signature. Remove the type hint to disable this warning. To enable validation for the input data, specify input example or model signature when logging the model. \u001b[0m\n",
      "  func_info = _get_func_info_if_type_hint_supported(predict_attr)\n"
     ]
    }
   ],
   "source": [
    "from tsfb.conf import darts_conf\n",
    "\n",
    "# Optional: Ghi đè mặc định toàn cục cho Apple Silicon: dùng CPU\n",
    "darts_conf.DEEP_MODEL_ARGS['pl_trainer_kwargs'].update({\n",
    "    'accelerator': 'cpu',  \n",
    "    'devices': 1,\n",
    "})\n",
    "\n",
    "# Tạo config giả\n",
    "fake_config = {\n",
    "    \"models\": [\n",
    "        {\n",
    "            \"model_name\": \"darts.models.BlockRNNModel\",\n",
    "            \"model_hyper_params\": {\n",
    "                \"input_chunk_length\": 36,\n",
    "                \"output_chunk_length\": 14\n",
    "            }\n",
    "        }\n",
    "    ]\n",
    "}"
   ]
  },
  {
   "cell_type": "markdown",
   "id": "9930cb78-28e4-444a-ba81-e6dba4e730fc",
   "metadata": {},
   "source": [
    "## Step 3: Khởi tạo mô hình\n",
    "Hàm get_models() sẽ đọc fake_config, truyền model_name sang lớp gốc trong thư viện Darts, rồi tự động bọc nó bằng adapter của TSFB. Cơ chế adapter cho deep models được định nghĩa trong hàm darts_deep_model_adapter ở darts_factory.py: https://github.com/vnpt-ds-core/forecasting/blob/main/tsfb/base/models/darts/darts_factory.py\n",
    "\n",
    "Việc chọn adapter tự động được thực hiện trong model_loader.py, nơi TSFB tra cứu tên mô hình (model_name_key) và gọi adapter tương ứng: https://github.com/vnpt-ds-core/forecasting/blob/main/tsfb/base/models/model_loader.py\n",
    "\n",
    "Adapter này giúp chuẩn hóa input/output, xử lý split dữ liệu train/validation, và gọi đúng quy trình .fit() và .forecast() của Darts."
   ]
  },
  {
   "cell_type": "code",
   "execution_count": 5,
   "id": "79d41996",
   "metadata": {},
   "outputs": [
    {
     "name": "stderr",
     "output_type": "stream",
     "text": [
      "2025-10-09 13:47:35,592 - INFO - Trying to load model tsfb.base.models.darts.models.BlockRNNModel\n",
      "2025-10-09 13:47:35,592 - INFO - Loading model tsfb.base.models.darts.models.BlockRNNModel failed\n",
      "2025-10-09 13:47:35,593 - INFO - Error: No module named 'tsfb.base.models.darts.models'\n",
      "2025-10-09 13:47:35,593 - INFO - Trying to load model darts.models.BlockRNNModel\n",
      "2025-10-09 13:47:35,594 - INFO - Using auto adapter for model: BlockRNNModel\n"
     ]
    },
    {
     "data": {
      "text/plain": [
       "BlockRNNModel"
      ]
     },
     "execution_count": 5,
     "metadata": {},
     "output_type": "execute_result"
    }
   ],
   "source": [
    "from tsfb.base.models.model_loader import get_models\n",
    "\n",
    "# Lấy danh sách ModelFactory dựa trên cấu hình\n",
    "model_factories = get_models(fake_config)\n",
    "\n",
    "# Khởi tạo mô hình đầu tiên (vì đang chỉ khai báo một mô hình)\n",
    "model = model_factories[0]()\n",
    "\n",
    "model"
   ]
  },
  {
   "cell_type": "markdown",
   "id": "b5f60b75-9133-411b-8639-71ddde5fc4c2",
   "metadata": {},
   "source": [
    "## Step 4: Huyến luyện & dự báo\n",
    "Phương thức forecast_fit() của adapter sẽ chia dữ liệu thành train/validation theo train_ratio_in_tv và chuyển DataFrame thành darts.TimeSeries: https://github.com/vnpt-ds-core/forecasting/blob/main/tsfb/base/models/darts/darts_models.py"
   ]
  },
  {
   "cell_type": "code",
   "execution_count": 6,
   "id": "fd18a8c9",
   "metadata": {},
   "outputs": [
    {
     "name": "stderr",
     "output_type": "stream",
     "text": [
      "/opt/miniconda3/envs/vnpt_ts311_arm/lib/python3.11/site-packages/pytorch_lightning/trainer/setup.py:177: GPU available but not used. You can set it by doing `Trainer(accelerator='gpu')`.\n",
      "/opt/miniconda3/envs/vnpt_ts311_arm/lib/python3.11/site-packages/torch/utils/data/dataloader.py:683: UserWarning: 'pin_memory' argument is set as true but not supported on MPS now, then device pinned memory won't be used.\n",
      "  warnings.warn(warn_msg)\n",
      "/opt/miniconda3/envs/vnpt_ts311_arm/lib/python3.11/site-packages/pytorch_lightning/trainer/setup.py:177: GPU available but not used. You can set it by doing `Trainer(accelerator='gpu')`.\n",
      "/opt/miniconda3/envs/vnpt_ts311_arm/lib/python3.11/site-packages/torch/utils/data/dataloader.py:683: UserWarning: 'pin_memory' argument is set as true but not supported on MPS now, then device pinned memory won't be used.\n",
      "  warnings.warn(warn_msg)\n"
     ]
    },
    {
     "data": {
      "text/html": [
       "<div>\n",
       "<style scoped>\n",
       "    .dataframe tbody tr th:only-of-type {\n",
       "        vertical-align: middle;\n",
       "    }\n",
       "\n",
       "    .dataframe tbody tr th {\n",
       "        vertical-align: top;\n",
       "    }\n",
       "\n",
       "    .dataframe thead th {\n",
       "        text-align: right;\n",
       "    }\n",
       "</style>\n",
       "<table border=\"1\" class=\"dataframe\">\n",
       "  <thead>\n",
       "    <tr style=\"text-align: right;\">\n",
       "      <th></th>\n",
       "      <th>prediction</th>\n",
       "    </tr>\n",
       "  </thead>\n",
       "  <tbody>\n",
       "    <tr>\n",
       "      <th>2016-04-25</th>\n",
       "      <td>0.601986</td>\n",
       "    </tr>\n",
       "    <tr>\n",
       "      <th>2016-04-26</th>\n",
       "      <td>0.728034</td>\n",
       "    </tr>\n",
       "    <tr>\n",
       "      <th>2016-04-27</th>\n",
       "      <td>0.715104</td>\n",
       "    </tr>\n",
       "    <tr>\n",
       "      <th>2016-04-28</th>\n",
       "      <td>0.729377</td>\n",
       "    </tr>\n",
       "    <tr>\n",
       "      <th>2016-04-29</th>\n",
       "      <td>0.853345</td>\n",
       "    </tr>\n",
       "  </tbody>\n",
       "</table>\n",
       "</div>"
      ],
      "text/plain": [
       "            prediction\n",
       "2016-04-25    0.601986\n",
       "2016-04-26    0.728034\n",
       "2016-04-27    0.715104\n",
       "2016-04-28    0.729377\n",
       "2016-04-29    0.853345"
      ]
     },
     "execution_count": 6,
     "metadata": {},
     "output_type": "execute_result"
    }
   ],
   "source": [
    "# Fit model\n",
    "model.forecast_fit(train_data=data, train_ratio_in_tv=0.9)\n",
    "\n",
    "# Dùng forecast() để dự báo cho các 'horizon' kế tiếp\n",
    "horizon = fake_config[\"models\"][0][\"model_hyper_params\"][\"output_chunk_length\"] # truyền từ config\n",
    "predictions = model.forecast(horizon=horizon, series=data)\n",
    "\n",
    "# Tạo DataFrame cho dữ liệu dự báo\n",
    "future_index = pd.date_range(start=data.index[-1] + pd.Timedelta(days=1), periods=horizon, freq='D')\n",
    "preds_df = pd.DataFrame(predictions, index=future_index, columns=['prediction'])\n",
    "\n",
    "preds_df.head()"
   ]
  },
  {
   "cell_type": "code",
   "execution_count": 9,
   "id": "8295d5c6-0080-4996-a16d-8394f1410841",
   "metadata": {},
   "outputs": [
    {
     "data": {
      "image/png": "[encoded data removed]",
      "text/plain": [
       "<Figure size 1000x500 with 1 Axes>"
      ]
     },
     "metadata": {},
     "output_type": "display_data"
    }
   ],
   "source": [
    "# Plot kết qủa\n",
    "import matplotlib.pyplot as plt\n",
    "\n",
    "# Giới hạn 40 ngày gần nhất\n",
    "lookback_days = 40\n",
    "plot_data = data.tail(lookback_days)\n",
    "\n",
    "plt.figure(figsize=(10, 5))\n",
    "plt.plot(plot_data.index, plot_data['sales'], label='Historical Sales', color='blue')\n",
    "plt.plot(preds_df.index, preds_df['prediction'], label='Forecast', color='orange', linestyle='--')\n",
    "\n",
    "plt.axvline(x=data.index[-1], color='gray', linestyle=':', linewidth=1, label='Forecast Start')\n",
    "plt.axvspan(data.index[-1], preds_df.index[-1], color='orange', alpha=0.08, label='Forecast Period')\n",
    "\n",
    "plt.title(f'DARTS Forecast (next {len(preds_df)} days)')\n",
    "plt.xlabel('Date')\n",
    "plt.ylabel('Sales')\n",
    "plt.legend()\n",
    "plt.grid(alpha=0.3)\n",
    "plt.tight_layout()\n",
    "plt.show()"
   ]
  },
  {
   "cell_type": "markdown",
   "id": "acfa5df2-2d4c-4fce-b9a2-7df042902538",
   "metadata": {},
   "source": [
    "Mô hình dự báo cho thấy doanh số trong 14 ngày tới có xu hướng duy trì quanh mức trung bình gần nhất, không xuất hiện biến động lớn. So với dữ liệu lịch sử dao động mạnh, phần dự báo ổn định hơn, phản ánh việc mô hình ưu tiên bắt xu hướng tổng thể thay vì các đỉnh nhọn hiếm gặp. Kết quả này gợi ý rằng mô hình đang kỳ vọng doanh số tiếp tục ở mức thấp và ổn định, phù hợp với hành vi dữ liệu quá khứ có nhiều ngày bằng 0 và ít chu kỳ rõ ràng."
   ]
  }
 ],
 "metadata": {
  "kernelspec": {
   "display_name": "Python (vnpt_ts311_arm)",
   "language": "python",
   "name": "vnpt_ts311_arm"
  },
  "language_info": {
   "codemirror_mode": {
    "name": "ipython",
    "version": 3
   },
   "file_extension": ".py",
   "mimetype": "text/x-python",
   "name": "python",
   "nbconvert_exporter": "python",
   "pygments_lexer": "ipython3",
   "version": "3.11.13"
  }
 },
 "nbformat": 4,
 "nbformat_minor": 5
}
