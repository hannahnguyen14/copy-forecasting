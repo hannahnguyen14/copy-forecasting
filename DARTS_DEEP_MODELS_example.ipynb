{
 "cells": [
  {
   "cell_type": "markdown",
   "id": "13dc7ac9",
   "metadata": {},
   "source": [
    "# Example: Using DARTS Deep Models via TSFB\n",
    "\n",
    "Notebook này minh họa cách làm việc với DARTS_DEEP_MODELS trong dự án tsfb, giống như khi dùng một thư viện dự báo riêng biệt.\n",
    "Ở đây sử dụng mô hình học sâu BlockRNNModel của thư viện darts, được TSFB bao bọc lại.\n",
    "\n",
    "Layout gồm có:\n",
    "1. Tạo một bộ dữ liệu chuỗi thời gian đơn biến đơn giản.\n",
    "\n",
    "2. Định nghĩa các siêu tham số (hyperparameters) cần thiết cho mô hình DARTS.\n",
    "\n",
    "3. Khởi tạo mô hình thông qua adapter của TSFB (get_models).\n",
    "\n",
    "4. Huấn luyện mô hình với dữ liệu và tạo dự báo."
   ]
  },
  {
   "cell_type": "code",
   "execution_count": 1,
   "id": "e3a11906",
   "metadata": {},
   "outputs": [
    {
     "data": {
      "text/html": [
       "<div>\n",
       "<style scoped>\n",
       "    .dataframe tbody tr th:only-of-type {\n",
       "        vertical-align: middle;\n",
       "    }\n",
       "\n",
       "    .dataframe tbody tr th {\n",
       "        vertical-align: top;\n",
       "    }\n",
       "\n",
       "    .dataframe thead th {\n",
       "        text-align: right;\n",
       "    }\n",
       "</style>\n",
       "<table border=\"1\" class=\"dataframe\">\n",
       "  <thead>\n",
       "    <tr style=\"text-align: right;\">\n",
       "      <th></th>\n",
       "      <th>y</th>\n",
       "    </tr>\n",
       "  </thead>\n",
       "  <tbody>\n",
       "    <tr>\n",
       "      <th>2020-01-01</th>\n",
       "      <td>0.113417</td>\n",
       "    </tr>\n",
       "    <tr>\n",
       "      <th>2020-01-02</th>\n",
       "      <td>0.212026</td>\n",
       "    </tr>\n",
       "    <tr>\n",
       "      <th>2020-01-03</th>\n",
       "      <td>0.330033</td>\n",
       "    </tr>\n",
       "    <tr>\n",
       "      <th>2020-01-04</th>\n",
       "      <td>0.621091</td>\n",
       "    </tr>\n",
       "    <tr>\n",
       "      <th>2020-01-05</th>\n",
       "      <td>0.533333</td>\n",
       "    </tr>\n",
       "  </tbody>\n",
       "</table>\n",
       "</div>"
      ],
      "text/plain": [
       "                   y\n",
       "2020-01-01  0.113417\n",
       "2020-01-02  0.212026\n",
       "2020-01-03  0.330033\n",
       "2020-01-04  0.621091\n",
       "2020-01-05  0.533333"
      ]
     },
     "execution_count": 1,
     "metadata": {},
     "output_type": "execute_result"
    }
   ],
   "source": [
    "import pandas as pd\n",
    "import numpy as np\n",
    "#Step 1: Tạo data \n",
    "# Tạo date index \n",
    "index = pd.date_range(start='2020-01-01', periods=200, freq='D')\n",
    "\n",
    "# Tạo synthetic sine wave với Gaussian noise\n",
    "signal = np.sin(2 * np.pi * np.arange(200) / 30)\n",
    "noise = np.random.normal(scale=0.1, size=200)\n",
    "y_values = signal + noise  # univariate target series\n",
    "\n",
    "# Tạo dataframe\n",
    "data = pd.DataFrame({'y': y_values}, index=index)\n",
    "\n",
    "data.head()"
   ]
  },
  {
   "cell_type": "code",
   "execution_count": null,
   "id": "c24f6f21-3248-41f5-b53a-c8f6696ac44b",
   "metadata": {},
   "outputs": [],
   "source": [
    "# Step 2: định nghĩa các hyperparameters cho model\n",
    "from tsfb.conf import darts_conf\n",
    "\n",
    "# Optional: Ghi đè mặc định toàn cục cho Apple Silicon: dùng CPU\n",
    "darts_conf.DEEP_MODEL_ARGS['pl_trainer_kwargs'].update({\n",
    "    'accelerator': 'cpu',  \n",
    "    'devices': 1,\n",
    "})\n",
    "\n",
    "# Tạo config giả\n",
    "fake_config = {\n",
    "    \"models\": [\n",
    "        {\n",
    "            \"model_name\": \"darts.models.BlockRNNModel\",\n",
    "            \"model_hyper_params\": {\n",
    "                \"input_chunk_length\": 24,\n",
    "                \"output_chunk_length\": 7\n",
    "            }\n",
    "        }\n",
    "    ]\n",
    "}"
   ]
  },
  {
   "cell_type": "code",
   "execution_count": 25,
   "id": "79d41996",
   "metadata": {},
   "outputs": [
    {
     "data": {
      "text/plain": [
       "BlockRNNModel"
      ]
     },
     "execution_count": 25,
     "metadata": {},
     "output_type": "execute_result"
    }
   ],
   "source": [
    "# Step 3: Khởi tạo model\n",
    "from tsfb.base.models.model_loader import get_models\n",
    "\n",
    "# Lấy danh sách ModelFactory dựa trên cấu hình\n",
    "model_factories = get_models(fake_config)\n",
    "\n",
    "# Khởi tạo mô hình đầu tiên (vì đang chỉ khai báo một mô hình)\n",
    "model = model_factories[0]()\n",
    "\n",
    "model"
   ]
  },
  {
   "cell_type": "code",
   "execution_count": 27,
   "id": "fd18a8c9",
   "metadata": {},
   "outputs": [
    {
     "name": "stderr",
     "output_type": "stream",
     "text": [
      "/opt/miniconda3/envs/vnpt_ts311_arm/lib/python3.11/site-packages/pytorch_lightning/trainer/setup.py:177: GPU available but not used. You can set it by doing `Trainer(accelerator='gpu')`.\n",
      "/opt/miniconda3/envs/vnpt_ts311_arm/lib/python3.11/site-packages/torch/utils/data/dataloader.py:683: UserWarning: 'pin_memory' argument is set as true but not supported on MPS now, then device pinned memory won't be used.\n",
      "  warnings.warn(warn_msg)\n",
      "/opt/miniconda3/envs/vnpt_ts311_arm/lib/python3.11/site-packages/pytorch_lightning/trainer/setup.py:177: GPU available but not used. You can set it by doing `Trainer(accelerator='gpu')`.\n",
      "/opt/miniconda3/envs/vnpt_ts311_arm/lib/python3.11/site-packages/torch/utils/data/dataloader.py:683: UserWarning: 'pin_memory' argument is set as true but not supported on MPS now, then device pinned memory won't be used.\n",
      "  warnings.warn(warn_msg)\n"
     ]
    },
    {
     "data": {
      "text/html": [
       "<div>\n",
       "<style scoped>\n",
       "    .dataframe tbody tr th:only-of-type {\n",
       "        vertical-align: middle;\n",
       "    }\n",
       "\n",
       "    .dataframe tbody tr th {\n",
       "        vertical-align: top;\n",
       "    }\n",
       "\n",
       "    .dataframe thead th {\n",
       "        text-align: right;\n",
       "    }\n",
       "</style>\n",
       "<table border=\"1\" class=\"dataframe\">\n",
       "  <thead>\n",
       "    <tr style=\"text-align: right;\">\n",
       "      <th></th>\n",
       "      <th>prediction</th>\n",
       "    </tr>\n",
       "  </thead>\n",
       "  <tbody>\n",
       "    <tr>\n",
       "      <th>2020-07-19</th>\n",
       "      <td>-0.877529</td>\n",
       "    </tr>\n",
       "    <tr>\n",
       "      <th>2020-07-20</th>\n",
       "      <td>-0.943350</td>\n",
       "    </tr>\n",
       "    <tr>\n",
       "      <th>2020-07-21</th>\n",
       "      <td>-1.011931</td>\n",
       "    </tr>\n",
       "    <tr>\n",
       "      <th>2020-07-22</th>\n",
       "      <td>-0.976214</td>\n",
       "    </tr>\n",
       "    <tr>\n",
       "      <th>2020-07-23</th>\n",
       "      <td>-0.946915</td>\n",
       "    </tr>\n",
       "    <tr>\n",
       "      <th>2020-07-24</th>\n",
       "      <td>-0.855430</td>\n",
       "    </tr>\n",
       "    <tr>\n",
       "      <th>2020-07-25</th>\n",
       "      <td>-0.753514</td>\n",
       "    </tr>\n",
       "  </tbody>\n",
       "</table>\n",
       "</div>"
      ],
      "text/plain": [
       "            prediction\n",
       "2020-07-19   -0.877529\n",
       "2020-07-20   -0.943350\n",
       "2020-07-21   -1.011931\n",
       "2020-07-22   -0.976214\n",
       "2020-07-23   -0.946915\n",
       "2020-07-24   -0.855430\n",
       "2020-07-25   -0.753514"
      ]
     },
     "execution_count": 27,
     "metadata": {},
     "output_type": "execute_result"
    }
   ],
   "source": [
    "# Step 4: fit model, produce a forecast\n",
    "# Fit model\n",
    "model.forecast_fit(train_data=data, train_ratio_in_tv=0.9)\n",
    "\n",
    "# Dùng forecast() để dự báo cho các 'horizon' kế tiếp\n",
    "predictions = model.forecast(horizon=7, series=data)\n",
    "\n",
    "# Tạo DataFrame cho dữ liệu dự báo\n",
    "future_index = pd.date_range(start=data.index[-1] + pd.Timedelta(days=1), periods=7, freq='D')\n",
    "preds_df = pd.DataFrame(predictions, index=future_index, columns=['prediction'])\n",
    "\n",
    "preds_df"
   ]
  }
 ],
 "metadata": {
  "kernelspec": {
   "display_name": "Python (vnpt_ts311_arm)",
   "language": "python",
   "name": "vnpt_ts311_arm"
  },
  "language_info": {
   "codemirror_mode": {
    "name": "ipython",
    "version": 3
   },
   "file_extension": ".py",
   "mimetype": "text/x-python",
   "name": "python",
   "nbconvert_exporter": "python",
   "pygments_lexer": "ipython3",
   "version": "3.11.13"
  }
 },
 "nbformat": 4,
 "nbformat_minor": 5
}
